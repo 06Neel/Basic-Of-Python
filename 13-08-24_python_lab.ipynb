{
 "cells": [
  {
   "cell_type": "markdown",
   "metadata": {},
   "source": [
    "## project: car insurence calculation on based on scenario: \n",
    "- This is a fictional car insurance company called Car Crash\n",
    "- They calculate the yearly ensurance price based on the current market price of the car\n",
    "- Given the market price: market_price\n",
    "- Then the yearly ensurance price is 9% of the market_price if it is a male above 26 years old.\n",
    "- As we see in the decision tree, we have 4 possible price calculations.\n",
    "- Create a program, which takes input and based on that calculated the correct price for all 4 cases\n",
    "\n",
    "\n",
    "- -----------------------------------------------------------------------------------------------\n",
    "\n",
    "- if gender is male \n",
    "- age <= 26: (23%)\n",
    "- age >= 26: (9%)\n",
    "\n",
    "- if gender is famale\n",
    "- sports car (21%)\n",
    "- non sport car (10%)"
   ]
  },
  {
   "cell_type": "code",
   "execution_count": 7,
   "metadata": {},
   "outputs": [
    {
     "name": "stdout",
     "output_type": "stream",
     "text": [
      "Your insurance will be:9000.0\n"
     ]
    }
   ],
   "source": [
    "gender = input(\"Enter your gender:\")\n",
    "\n",
    "market_price = 10000\n",
    "\n",
    "if gender == 'male':\n",
    "    age = int(input(\"Enter your age:\"))\n",
    "    if age >= 26 :\n",
    "        print(f\"Your insurance will be:{market_price*(0.9)}\")\n",
    "    else:\n",
    "        print(f\"Your insurance will be :{market_price*0.23}\")\n",
    "\n",
    "elif gender == 'female':\n",
    "    car_type = input(\"Enter your car type:\")\n",
    "    \n",
    "    if car_type == 'sport car' :\n",
    "        print(f\"Your insurance will be:{market_price*0.21}\")\n",
    "\n",
    "    elif car_type == 'non sport' :\n",
    "        print(f\"Your insurance will be:{market_price*0.10}\")\n",
    "\n",
    "    else :\n",
    "        print(\"No data\")\n",
    "else :\n",
    "    print(\"No Data\")"
   ]
  },
  {
   "cell_type": "code",
   "execution_count": 9,
   "metadata": {},
   "outputs": [
    {
     "name": "stdout",
     "output_type": "stream",
     "text": [
      "Your insurance will be:2100.0\n"
     ]
    }
   ],
   "source": [
    "gender = input(\"Enter your gender:\")\n",
    "\n",
    "market_price = 10000\n",
    "\n",
    "if gender in ('male',\"Male\"):\n",
    "    age = int(input(\"Enter your age:\"))\n",
    "    if age >= 26 :\n",
    "        print(f\"Your insurance will be:{market_price*(0.9)}\")\n",
    "    else:\n",
    "        print(f\"Your insurance will be :{market_price*0.23}\")\n",
    "\n",
    "elif gender in ('female','Female'):\n",
    "    car_type = input(\"Enter your car type:\")\n",
    "    \n",
    "    if car_type in ('sport car') :\n",
    "        print(f\"Your insurance will be:{market_price*0.21}\")\n",
    "\n",
    "    elif car_type in ('non sport') :\n",
    "        print(f\"Your insurance will be:{market_price*0.10}\")\n",
    "\n",
    "    else :\n",
    "        print(\"No data\")\n",
    "else :\n",
    "    print(\"No Data\")"
   ]
  },
  {
   "cell_type": "code",
   "execution_count": 11,
   "metadata": {},
   "outputs": [
    {
     "name": "stdout",
     "output_type": "stream",
     "text": [
      "As You are FeMaLE and your age is 21\n",
      " Your insurance will be:2100.0\n"
     ]
    }
   ],
   "source": [
    "gender = input(\"Enter your gender:\")\n",
    "\n",
    "market_price = 10000\n",
    "\n",
    "if gender.upper() == \"MALE\":\n",
    "    age = int(input(\"Enter your age:\"))\n",
    "    if age >= 26 :\n",
    "        print(f\"As You are {gender} and your age is {age}\\n Your insurance will be:{market_price*(0.9)}\")\n",
    "    else:\n",
    "        print(f\"As You are {gender} and your age is {age}\\n Your insurance will be :{market_price*0.23}\")\n",
    "\n",
    "elif gender.upper() == \"FEMALE\":\n",
    "    car_type = input(\"Enter your car type:\")\n",
    "    \n",
    "    if car_type.upper() ==\"SPORT CAR\" :\n",
    "        print(f\"As You are {gender} and your age is {age}\\n Your insurance will be:{market_price*0.21}\")\n",
    "\n",
    "    elif car_type.upper() == \"NON SPROT\":\n",
    "        print(f\"As You are {gender} and your age is {age}\\n Your insurance will be:{market_price*0.10}\")\n",
    "\n",
    "    else :\n",
    "        print(\"No data\")\n",
    "else :\n",
    "    print(\"No Data\")"
   ]
  },
  {
   "cell_type": "markdown",
   "metadata": {},
   "source": [
    "## Conditions & Iterations"
   ]
  },
  {
   "cell_type": "markdown",
   "metadata": {},
   "source": [
    "**in python there are two types of Loops**\n",
    "- while loop\n",
    "- for loop"
   ]
  },
  {
   "cell_type": "markdown",
   "metadata": {},
   "source": [
    "##### While loop"
   ]
  },
  {
   "cell_type": "code",
   "execution_count": 12,
   "metadata": {},
   "outputs": [
    {
     "name": "stdout",
     "output_type": "stream",
     "text": [
      "5\n",
      "4\n",
      "3\n",
      "2\n",
      "1\n",
      "Blastoff!\n",
      "0\n"
     ]
    }
   ],
   "source": [
    "n = 5\n",
    "while n > 0 :\n",
    "    print(n)\n",
    "    n = n - 1\n",
    "print('Blastoff!')\n",
    "print(n)"
   ]
  },
  {
   "cell_type": "markdown",
   "metadata": {},
   "source": [
    "#### Breaking Out of a loop\n",
    "- break"
   ]
  },
  {
   "cell_type": "code",
   "execution_count": 14,
   "metadata": {},
   "outputs": [
    {
     "name": "stdout",
     "output_type": "stream",
     "text": [
      "w\n",
      "e\n",
      "e\n",
      "r\n",
      "g\n",
      "Done!\n"
     ]
    }
   ],
   "source": [
    "while True:\n",
    "    line = input('>')\n",
    "    if line.upper() == 'DONE':\n",
    "        break\n",
    "    print(line)\n",
    "print(\"Done!\")"
   ]
  },
  {
   "cell_type": "markdown",
   "metadata": {},
   "source": [
    "- continue"
   ]
  },
  {
   "cell_type": "code",
   "execution_count": null,
   "metadata": {},
   "outputs": [],
   "source": []
  },
  {
   "cell_type": "markdown",
   "metadata": {},
   "source": [
    "#### Indifinite loops \n",
    "- while loops are called Indifinite loops"
   ]
  },
  {
   "cell_type": "markdown",
   "metadata": {},
   "source": [
    "#### Definite Loops\n",
    "- ### for"
   ]
  },
  {
   "cell_type": "code",
   "execution_count": 15,
   "metadata": {},
   "outputs": [
    {
     "name": "stdout",
     "output_type": "stream",
     "text": [
      "5\n",
      "4\n",
      "3\n",
      "2\n",
      "1\n",
      "Blastoff!\n"
     ]
    }
   ],
   "source": [
    "for i in [5,4,3,2,1] :\n",
    "    print(i)\n",
    "print(\"Blastoff!\")"
   ]
  },
  {
   "cell_type": "code",
   "execution_count": 16,
   "metadata": {},
   "outputs": [
    {
     "name": "stdout",
     "output_type": "stream",
     "text": [
      "Happy Birthday! Josheph\n",
      "Happy Birthday! Glenn\n",
      "Happy Birthday! Sally\n"
     ]
    }
   ],
   "source": [
    "friends = ['Josheph', 'Glenn', 'Sally']\n",
    "\n",
    "for friend in friends :\n",
    "    print(f\"Happy Birthday! {friend}\")"
   ]
  },
  {
   "cell_type": "markdown",
   "metadata": {},
   "source": [
    "#### Here iteration variable is *Friend*"
   ]
  },
  {
   "cell_type": "markdown",
   "metadata": {},
   "source": [
    "## Making \"Smart\" Loops"
   ]
  },
  {
   "cell_type": "code",
   "execution_count": 17,
   "metadata": {},
   "outputs": [
    {
     "name": "stdout",
     "output_type": "stream",
     "text": [
      "Before\n",
      "9\n",
      "41\n",
      "12\n",
      "3\n",
      "34\n",
      "74\n",
      "4\n",
      "After\n"
     ]
    }
   ],
   "source": [
    "print(\"Before\")\n",
    "for thing in [9,41,12,3,34,74,4] :\n",
    "    print(thing)\n",
    "print(\"After\")"
   ]
  },
  {
   "cell_type": "markdown",
   "metadata": {},
   "source": [
    "#### Largest number from the list"
   ]
  },
  {
   "cell_type": "code",
   "execution_count": 20,
   "metadata": {},
   "outputs": [
    {
     "name": "stdout",
     "output_type": "stream",
     "text": [
      "Before -1\n",
      "9 9\n",
      "41 41\n",
      "41 12\n",
      "41 3\n",
      "74 74\n",
      "74 15\n",
      "after 74\n"
     ]
    }
   ],
   "source": [
    "largest_so_far = -1\n",
    "print('Before', largest_so_far)\n",
    "for the_num in [9,41,12,3,74,15] :\n",
    "    if the_num > largest_so_far:\n",
    "        largest_so_far = the_num\n",
    "    print(largest_so_far,the_num)\n",
    "print('after',largest_so_far)"
   ]
  },
  {
   "cell_type": "markdown",
   "metadata": {},
   "source": [
    "#### Smallest number from the list"
   ]
  },
  {
   "cell_type": "code",
   "execution_count": 25,
   "metadata": {},
   "outputs": [
    {
     "name": "stdout",
     "output_type": "stream",
     "text": [
      "Before 100\n",
      "9 9\n",
      "9 41\n",
      "9 12\n",
      "3 3\n",
      "3 74\n",
      "3 15\n",
      "after 3\n"
     ]
    }
   ],
   "source": [
    "smallest_so_far = 100\n",
    "print('Before', smallest_so_far)\n",
    "for the_num in [9,41,12,3,74,15] :\n",
    "    if the_num < smallest_so_far:\n",
    "        smallest_so_far = the_num\n",
    "    print(smallest_so_far,the_num)\n",
    "print('after',smallest_so_far)"
   ]
  },
  {
   "cell_type": "markdown",
   "metadata": {},
   "source": [
    "#### Counting in a loop"
   ]
  },
  {
   "cell_type": "code",
   "execution_count": 2,
   "metadata": {},
   "outputs": [
    {
     "name": "stdout",
     "output_type": "stream",
     "text": [
      "Before 0\n",
      "1 9\n",
      "2 41\n",
      "3 12\n",
      "4 3\n",
      "5 74\n",
      "6 15\n",
      "After 6\n"
     ]
    }
   ],
   "source": [
    "zork = 0\n",
    "print(\"Before\" , zork)\n",
    "for thing in [9,41,12,3,74,15]:\n",
    "    zork = zork + 1\n",
    "    print(zork,thing)\n",
    "print(\"After\",zork)"
   ]
  },
  {
   "cell_type": "markdown",
   "metadata": {},
   "source": [
    "#### Sum of all of the elements in the list"
   ]
  },
  {
   "cell_type": "code",
   "execution_count": 8,
   "metadata": {},
   "outputs": [
    {
     "name": "stdout",
     "output_type": "stream",
     "text": [
      "Before 0\n",
      "9 9\n",
      "50 41\n",
      "62 12\n",
      "65 3\n",
      "139 74\n",
      "154 15\n",
      "Before 154\n"
     ]
    }
   ],
   "source": [
    "sum = 0\n",
    "print(\"Before\",sum)\n",
    "for thing in [9,41,12,3,74,15] :\n",
    "    sum = sum + thing\n",
    "    print(sum,thing)\n",
    "print(\"Before\",sum)"
   ]
  }
 ],
 "metadata": {
  "kernelspec": {
   "display_name": "Python 3",
   "language": "python",
   "name": "python3"
  },
  "language_info": {
   "codemirror_mode": {
    "name": "ipython",
    "version": 3
   },
   "file_extension": ".py",
   "mimetype": "text/x-python",
   "name": "python",
   "nbconvert_exporter": "python",
   "pygments_lexer": "ipython3",
   "version": "3.12.5"
  }
 },
 "nbformat": 4,
 "nbformat_minor": 2
}
