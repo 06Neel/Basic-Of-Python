{
 "cells": [
  {
   "cell_type": "markdown",
   "metadata": {},
   "source": [
    "**program to prompt the user for hours and rate per hour to compute the gross pay**"
   ]
  },
  {
   "cell_type": "code",
   "execution_count": 1,
   "metadata": {},
   "outputs": [
    {
     "name": "stdout",
     "output_type": "stream",
     "text": [
      "Your gross pay as 3.0 hour is 1500.0\n"
     ]
    }
   ],
   "source": [
    "hr = float(input(\"Enter the working hour\"))\n",
    "gross_pay = hr*500\n",
    "\n",
    "print(f\"Your gross pay as {hr} hour is {gross_pay}\")"
   ]
  },
  {
   "cell_type": "markdown",
   "metadata": {},
   "source": [
    "## Comparision Operator\n",
    "- one way Decision\n",
    "- Nested Decision\n",
    "- two way Decision"
   ]
  },
  {
   "cell_type": "code",
   "execution_count": 6,
   "metadata": {},
   "outputs": [
    {
     "name": "stdout",
     "output_type": "stream",
     "text": [
      "8.0 is positive number\n"
     ]
    }
   ],
   "source": [
    "num = float(input(\"Enter number to check positve or negetive\"))\n",
    "\n",
    "if num == 0:\n",
    "    print(f\"{num} is neither positive or negative\")\n",
    "\n",
    "elif num > 1:\n",
    "    print(f\"{num} is positive number\")\n",
    "\n",
    "else:\n",
    "    print(f\"{num} is negative number\")"
   ]
  },
  {
   "cell_type": "markdown",
   "metadata": {},
   "source": [
    "## Try and except structure"
   ]
  },
  {
   "cell_type": "markdown",
   "metadata": {},
   "source": [
    "Rewrite your pay computation to give the employee 1.5 times the hourly rate for hours worked above 40 hour\n",
    "- enter hours : 45\n",
    "- enter Rate: 10\n",
    "\n",
    "- pay: 475.0\n"
   ]
  },
  {
   "cell_type": "code",
   "execution_count": 15,
   "metadata": {},
   "outputs": [
    {
     "name": "stdout",
     "output_type": "stream",
     "text": [
      "Your gross pay will be 475.0\n"
     ]
    }
   ],
   "source": [
    "hour = float(input(\"Enter your working hour\"))\n",
    "rate = float(input(\"Enter rate\"))\n",
    "\n",
    "if hour > 40:\n",
    "    print(f\"Your gross pay will be {(40*rate)+(hour-40)*1.5*rate}\")\n",
    "else:\n",
    "    print(f\"Your gross pay will be {hour*rate}\")"
   ]
  },
  {
   "cell_type": "markdown",
   "metadata": {},
   "source": [
    "Same code using try block"
   ]
  },
  {
   "cell_type": "code",
   "execution_count": 19,
   "metadata": {},
   "outputs": [
    {
     "name": "stdout",
     "output_type": "stream",
     "text": [
      "Your gross pay will be 475.0\n"
     ]
    }
   ],
   "source": [
    "hour = float(input(\"Enter Your working hour:\"))\n",
    "rate = float(input(\"Enter rate per hour:\"))\n",
    "\n",
    "try :\n",
    "    if hour > 40:\n",
    "        print(f\"Your gross pay will be {(40*rate)+(hour-40)*1.5*rate}\")\n",
    "except:\n",
    "    print(f\"Your gross pay will be {hour*rate}\")\n"
   ]
  }
 ],
 "metadata": {
  "kernelspec": {
   "display_name": "Python 3",
   "language": "python",
   "name": "python3"
  },
  "language_info": {
   "codemirror_mode": {
    "name": "ipython",
    "version": 3
   },
   "file_extension": ".py",
   "mimetype": "text/x-python",
   "name": "python",
   "nbconvert_exporter": "python",
   "pygments_lexer": "ipython3",
   "version": "3.12.5"
  }
 },
 "nbformat": 4,
 "nbformat_minor": 2
}
