{
 "cells": [
  {
   "cell_type": "markdown",
   "metadata": {},
   "source": [
    "### Object Oriented Programming\n",
    "---\n",
    "Encapsulation\n",
    "- Method\n",
    "- Attribute\n",
    "\n",
    "Inheritance (Abstraction + Data Hidding)\n",
    "\n",
    "Polymorphisym\n",
    "\n",
    "---\n",
    "Class\n",
    "- **object:** any real time entity"
   ]
  },
  {
   "cell_type": "code",
   "execution_count": 14,
   "metadata": {},
   "outputs": [
    {
     "name": "stdout",
     "output_type": "stream",
     "text": [
      "Neel\n",
      "300000\n"
     ]
    }
   ],
   "source": [
    "#Creating Class\n",
    "class Employee:\n",
    "    pass\n",
    "\n",
    "# instance of the class\n",
    "emp_1 = Employee()   # -----------> emp1 is object\n",
    "\n",
    "# Taking input from user\n",
    "name = input(\"Enter your name:\")\n",
    "#assign name to the first instance\n",
    "emp_1.name = name\n",
    "\n",
    "# Taking input from user\n",
    "salary = int(input(\"Enter your salary:\"))\n",
    "#Assign salary to the the first instance\n",
    "emp_1.salary = salary\n",
    "\n",
    "print(emp_1.name)\n",
    "print(emp_1.salary)"
   ]
  },
  {
   "cell_type": "code",
   "execution_count": 10,
   "metadata": {},
   "outputs": [
    {
     "data": {
      "text/plain": [
       "type"
      ]
     },
     "execution_count": 10,
     "metadata": {},
     "output_type": "execute_result"
    }
   ],
   "source": [
    "type(Employee)"
   ]
  },
  {
   "cell_type": "code",
   "execution_count": 12,
   "metadata": {},
   "outputs": [
    {
     "data": {
      "text/plain": [
       "__main__.Employee"
      ]
     },
     "execution_count": 12,
     "metadata": {},
     "output_type": "execute_result"
    }
   ],
   "source": [
    "type(emp_1)"
   ]
  },
  {
   "cell_type": "code",
   "execution_count": 15,
   "metadata": {},
   "outputs": [
    {
     "data": {
      "text/plain": [
       "int"
      ]
     },
     "execution_count": 15,
     "metadata": {},
     "output_type": "execute_result"
    }
   ],
   "source": [
    "type(emp_1.salary)"
   ]
  },
  {
   "cell_type": "code",
   "execution_count": 16,
   "metadata": {},
   "outputs": [
    {
     "data": {
      "text/plain": [
       "'300000'"
      ]
     },
     "execution_count": 16,
     "metadata": {},
     "output_type": "execute_result"
    }
   ],
   "source": [
    "str(emp_1.salary)"
   ]
  },
  {
   "cell_type": "code",
   "execution_count": 19,
   "metadata": {},
   "outputs": [
    {
     "data": {
      "text/plain": [
       "str"
      ]
     },
     "execution_count": 19,
     "metadata": {},
     "output_type": "execute_result"
    }
   ],
   "source": [
    "type(emp_1.name)"
   ]
  },
  {
   "cell_type": "code",
   "execution_count": 21,
   "metadata": {},
   "outputs": [
    {
     "name": "stdout",
     "output_type": "stream",
     "text": [
      "NeelHello\n"
     ]
    }
   ],
   "source": [
    "print(emp_1.name + \"Hello\")"
   ]
  },
  {
   "cell_type": "markdown",
   "metadata": {},
   "source": [
    "## Self"
   ]
  },
  {
   "cell_type": "code",
   "execution_count": 23,
   "metadata": {},
   "outputs": [
    {
     "name": "stdout",
     "output_type": "stream",
     "text": [
      "Neel\n",
      "AL & ML\n",
      "300000\n"
     ]
    }
   ],
   "source": [
    "# self is a variable not keyward\n",
    "\n",
    "class Manager:\n",
    "    def __init__(self,name,department,salary):\n",
    "        self.name = name\n",
    "        self.department = department\n",
    "        self.salary = salary\n",
    "\n",
    "\n",
    "name = input(\"Enter Your Name:\")\n",
    "department = input(\"Enter your Department:\")\n",
    "salary = int(input(\"Enter your salary\"))\n",
    "\n",
    "# Create object of the class\n",
    "manager_1 = Manager(name,department,salary)\n",
    "\n",
    "# printing the output\n",
    "print(manager_1.name)\n",
    "print(manager_1.department)\n",
    "print(manager_1.salary)"
   ]
  },
  {
   "cell_type": "code",
   "execution_count": 27,
   "metadata": {},
   "outputs": [
    {
     "name": "stdout",
     "output_type": "stream",
     "text": [
      "Name of the Car is: Jazz\n"
     ]
    }
   ],
   "source": [
    "class Car:\n",
    "    def setName(self,name):            #-------------> Method 1\n",
    "        self.name = name\n",
    "    def getName(self):                 #-------------> Method 2\n",
    "        return self.name\n",
    "\n",
    "Honda = Car()\n",
    "\n",
    "carname = input(\"Enter the car name:\")\n",
    "Honda.setName(carname)\n",
    "\n",
    "print(\"Name of the Car is:\",Honda.getName())"
   ]
  },
  {
   "cell_type": "markdown",
   "metadata": {},
   "source": [
    "### Python will create constractor automatically"
   ]
  },
  {
   "cell_type": "code",
   "execution_count": 32,
   "metadata": {},
   "outputs": [
    {
     "name": "stdout",
     "output_type": "stream",
     "text": [
      "First student name Neel\n",
      "Age of First student: 22\n",
      "Second student name Subho\n",
      "Age of Second student: 22\n"
     ]
    }
   ],
   "source": [
    "class Student:\n",
    "    def __init__(self,name,age):\n",
    "        self.name = name\n",
    "        self.age = age\n",
    "\n",
    "name = input(\"enter the name:\")\n",
    "age = int(input(\"Enter your age:\"))\n",
    "\n",
    "name2 = input(\"enter the name:\")\n",
    "age2 = int(input(\"Enter your age:\"))\n",
    "\n",
    "\n",
    "# object\n",
    "student_1 = Student(name,age)\n",
    "student_2 = Student(name2,age2)\n",
    "\n",
    "\n",
    "\n",
    "\n",
    "print(\"First student name\",student_1.name)\n",
    "print(\"Age of First student:\",student_1.age)\n",
    "\n",
    "print(\"Second student name\",student_2.name)\n",
    "print(\"Age of Second student:\",student_2.age)\n"
   ]
  },
  {
   "cell_type": "code",
   "execution_count": null,
   "metadata": {},
   "outputs": [],
   "source": [
    "class Student:\n",
    "    def __init__(self,name,age):\n",
    "        self.name = name\n",
    "        self.age = age\n",
    "\n",
    "name = input(\"enter the name:\")\n",
    "age = int(input(\"Enter your age:\"))\n",
    "\n",
    "\n",
    "# object\n",
    "student_1 = Student(name,age)\n",
    "\n",
    "name = input(\"enter the name:\")\n",
    "age = int(input(\"Enter your age:\"))\n",
    "\n",
    "# object\n",
    "student_2 = Student(name2,age2)\n",
    "\n",
    "\n",
    "\n",
    "print(\"First student name\",student_1.name)\n",
    "print(\"Age of First student:\",student_1.age)\n",
    "\n",
    "print(\"Second student name\",student_2.name)\n",
    "print(\"Age of Second student:\",student_2.age)\n"
   ]
  }
 ],
 "metadata": {
  "kernelspec": {
   "display_name": "Python 3",
   "language": "python",
   "name": "python3"
  },
  "language_info": {
   "codemirror_mode": {
    "name": "ipython",
    "version": 3
   },
   "file_extension": ".py",
   "mimetype": "text/x-python",
   "name": "python",
   "nbconvert_exporter": "python",
   "pygments_lexer": "ipython3",
   "version": "3.12.6"
  }
 },
 "nbformat": 4,
 "nbformat_minor": 2
}
