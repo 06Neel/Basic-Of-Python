{
 "cells": [
  {
   "cell_type": "markdown",
   "metadata": {},
   "source": [
    "## Project - Jumbled Game\n",
    "\n",
    "Goal\n",
    "- Implement the Jumbled Game\n",
    "\n",
    "**Description**\n",
    "- A word jumble is a word puzzle game that presents the player with a bunch of mixed up letters\n",
    "- and requires them to unscramble the letters to find the hidden word.\n",
    "- The computer will take word and jumble it (mix up the letters).\n",
    "- Then the player will guess what the word is\n",
    "- An initial word list could be: ['father', 'enterprise', 'science', 'programming', 'resistance', 'fiction',\n",
    "'condition', 'reverse', 'computer', 'python']"
   ]
  },
  {
   "cell_type": "code",
   "execution_count": 20,
   "metadata": {},
   "outputs": [
    {
     "name": "stdout",
     "output_type": "stream",
     "text": [
      "['n', 't', 'd', 'i', 'o', 'c', 'i', 'n', 'o']\n",
      "Incorrect guess \n",
      "Actual word was:  condition\n"
     ]
    }
   ],
   "source": [
    "import random\n",
    "\n",
    "words = ['father', 'enterprise', 'science', 'programming', 'resistance', 'fiction',\n",
    "'condition', 'reverse', 'computer', 'python']\n",
    "\n",
    "word = random.choice(words)\n",
    "\n",
    "#print(word)\n",
    "\n",
    "jummble = random.sample(word,len(word))\n",
    "\n",
    "print(jummble)\n",
    "\n",
    "guess = input(\"Type the guess word: \")\n",
    "\n",
    "if guess == word :\n",
    "    print(\"You guessed it right!\")\n",
    "else:\n",
    "    print(\"Incorrect guess!\",\"\\nActual word was: \",word)\n"
   ]
  },
  {
   "cell_type": "markdown",
   "metadata": {},
   "source": [
    "## Recursion\n",
    "\n",
    "the function called it itself is called recursion"
   ]
  },
  {
   "cell_type": "markdown",
   "metadata": {},
   "source": [
    "Example: Fibonaci series\n",
    "- Fo = 0\n",
    "- F1 = 1\n",
    "- F2 = 0+1 = 1\n",
    "- Fn = F(n-1) + F(n-2)"
   ]
  },
  {
   "cell_type": "code",
   "execution_count": 21,
   "metadata": {},
   "outputs": [],
   "source": [
    "f0 = 0\n",
    "f1 = 1"
   ]
  },
  {
   "cell_type": "code",
   "execution_count": 23,
   "metadata": {},
   "outputs": [
    {
     "data": {
      "text/plain": [
       "1"
      ]
     },
     "execution_count": 23,
     "metadata": {},
     "output_type": "execute_result"
    }
   ],
   "source": [
    "f2 = f0 + f1\n",
    "f2"
   ]
  },
  {
   "cell_type": "code",
   "execution_count": 24,
   "metadata": {},
   "outputs": [
    {
     "data": {
      "text/plain": [
       "2"
      ]
     },
     "execution_count": 24,
     "metadata": {},
     "output_type": "execute_result"
    }
   ],
   "source": [
    "f3 = f1 + f2\n",
    "f3"
   ]
  },
  {
   "cell_type": "markdown",
   "metadata": {},
   "source": [
    "n = 3\n",
    "f0 = 0\n",
    "f1 = 1\n",
    "f2 = f0 + f1"
   ]
  },
  {
   "cell_type": "code",
   "execution_count": 31,
   "metadata": {},
   "outputs": [
    {
     "name": "stdout",
     "output_type": "stream",
     "text": [
      "0\n",
      "1\n",
      "2\n",
      "3\n",
      "4\n"
     ]
    }
   ],
   "source": [
    "n = int(input(\"Enter the number:\"))\n",
    "\n",
    "for i in range(n):\n",
    "    print(i)\n",
    "    "
   ]
  },
  {
   "cell_type": "code",
   "execution_count": 36,
   "metadata": {},
   "outputs": [
    {
     "name": "stdout",
     "output_type": "stream",
     "text": [
      "7\n"
     ]
    }
   ],
   "source": [
    "if n <= 1:\n",
    "    print(n)\n",
    "else:\n",
    "    print((n-1)+(n-2))"
   ]
  }
 ],
 "metadata": {
  "kernelspec": {
   "display_name": "Python 3",
   "language": "python",
   "name": "python3"
  },
  "language_info": {
   "codemirror_mode": {
    "name": "ipython",
    "version": 3
   },
   "file_extension": ".py",
   "mimetype": "text/x-python",
   "name": "python",
   "nbconvert_exporter": "python",
   "pygments_lexer": "ipython3",
   "version": "3.12.5"
  }
 },
 "nbformat": 4,
 "nbformat_minor": 2
}
