{
 "cells": [
  {
   "cell_type": "markdown",
   "metadata": {},
   "source": [
    "## Exception Handling:\n",
    "- try & Catch"
   ]
  },
  {
   "cell_type": "code",
   "execution_count": 3,
   "metadata": {},
   "outputs": [
    {
     "ename": "ZeroDivisionError",
     "evalue": "division by zero",
     "output_type": "error",
     "traceback": [
      "\u001b[0;31m---------------------------------------------------------------------------\u001b[0m",
      "\u001b[0;31mZeroDivisionError\u001b[0m                         Traceback (most recent call last)",
      "Cell \u001b[0;32mIn[3], line 3\u001b[0m\n\u001b[1;32m      1\u001b[0m a \u001b[38;5;241m=\u001b[39m \u001b[38;5;28mint\u001b[39m(\u001b[38;5;28minput\u001b[39m(\u001b[38;5;124m\"\u001b[39m\u001b[38;5;124mEnter the value of a:\u001b[39m\u001b[38;5;124m\"\u001b[39m))\n\u001b[1;32m      2\u001b[0m b \u001b[38;5;241m=\u001b[39m \u001b[38;5;28mint\u001b[39m(\u001b[38;5;28minput\u001b[39m(\u001b[38;5;124m\"\u001b[39m\u001b[38;5;124mEnter the value of b:\u001b[39m\u001b[38;5;124m\"\u001b[39m))\n\u001b[0;32m----> 3\u001b[0m div \u001b[38;5;241m=\u001b[39m a\u001b[38;5;241m/\u001b[39mb\n\u001b[1;32m      4\u001b[0m \u001b[38;5;28mprint\u001b[39m(div)\n",
      "\u001b[0;31mZeroDivisionError\u001b[0m: division by zero"
     ]
    }
   ],
   "source": [
    "a = int(input(\"Enter the value of a:\"))\n",
    "b = int(input(\"Enter the value of b:\"))\n",
    "div = a/b\n",
    "print(div)"
   ]
  },
  {
   "cell_type": "code",
   "execution_count": 1,
   "metadata": {},
   "outputs": [
    {
     "name": "stdout",
     "output_type": "stream",
     "text": [
      "Please enter non zero value\n"
     ]
    }
   ],
   "source": [
    "try:\n",
    "    a = int(input(\"Enter the value of a:\"))\n",
    "    b = int(input(\"Enter the value of b:\"))\n",
    "    div = a/b\n",
    "    print(div)\n",
    "except:\n",
    "    print(\"Please enter non zero value\")\n"
   ]
  },
  {
   "cell_type": "code",
   "execution_count": 12,
   "metadata": {},
   "outputs": [
    {
     "name": "stdout",
     "output_type": "stream",
     "text": [
      "Kindly Enter non zero value\n"
     ]
    }
   ],
   "source": [
    "try:\n",
    "    a = int(input(\"Enter the value of a:\"))\n",
    "    b = int(input(\"Enter the value of b:\"))\n",
    "    div = a/b\n",
    "    print(div)\n",
    "\n",
    "except ZeroDivisionError:\n",
    "    print(\"Please enter non zero value\")\n",
    "    \n",
    "except ValueError:\n",
    "    print(\"Kindly Enter non zero value\")"
   ]
  },
  {
   "cell_type": "code",
   "execution_count": 8,
   "metadata": {},
   "outputs": [
    {
     "name": "stdout",
     "output_type": "stream",
     "text": [
      "ArithmeticError occurs\n",
      "Executed in any condition\n"
     ]
    }
   ],
   "source": [
    "try:\n",
    "    a = int(input(\"Enter the value of a:\"))\n",
    "    b = int(input(\"Enter the value of b:\"))\n",
    "    c = a + b\n",
    "    d = a / b\n",
    "    print(\"Try Sucessfull\")\n",
    "except ArithmeticError:\n",
    "    print(\"ArithmeticError occurs\")\n",
    "except Exception:\n",
    "    print(\"Exception occurs\")\n",
    "finally:\n",
    "    print(\"Executed in any condition\")"
   ]
  },
  {
   "cell_type": "markdown",
   "metadata": {},
   "source": [
    "### Nested try & Except"
   ]
  },
  {
   "cell_type": "markdown",
   "metadata": {},
   "source": [
    "Nesting: The process of placing one exception-handling routine within another. Nested routines first search for an exception handler within their scope, moving outward if not found. Exception-handling can be nested as deeply as needed to make your code safe.\n",
    "\n",
    "Build a python program on nested try-except block.\n",
    "\n",
    "Write program that repeatedly asks for a whole number input, handling exceptions and allowing users to retry or exit based on their choices.\n",
    "Firstly, used a while loop to keep prompting the user until they enter a valid whole number.\n",
    "Inside the loop, used a try block to attempt to convert the user's input to an integer.\n",
    "If the conversion raises a ValueError, print \"you must enter a whole number!\" and proceed to ask if the user wants to try again (y/n)?.\n",
    "If the user enters \"y\" (yes), the program should continue the loop.\n",
    "If the user enters \"n\" (no), or if they enter anything other than \"y\", the program should print \"ok, see you next time!\" and exit the loop.\n",
    "If the user interrupts the program with a keyboard interrupt (CTRL+C), catch the KeyboardInterrupt exception, print \"You pressed Ctrl+C! See you next time!\" and exit the loop."
   ]
  },
  {
   "cell_type": "markdown",
   "metadata": {},
   "source": [
    "1. used a while loop to keep prompting the user until they enter a valid whole number.\n",
    "2. Inside the loop, used a try block to attempt to convert the user's input to an integer.\n",
    "3. If the conversion raises a ValueError, \n",
    "    - print \"you must enter a whole number!\" and proceed to ask if the user wants to try again (y/n)?.\n",
    "4. If the user enters \"y\" (yes), the program should continue the loop.\n",
    "5. If the user enters \"n\" (no), or if they enter anything other than \"y\", the program should print \"ok, see you next time!\" and exit the loop.\n",
    "6. If the user interrupts the program with a keyboard interrupt (CTRL+C), \n",
    "    - catch the KeyboardInterrupt exception, \n",
    "    - print \"You pressed Ctrl+C! See you next time!\" and exit the loop."
   ]
  },
  {
   "cell_type": "code",
   "execution_count": 1,
   "metadata": {},
   "outputs": [
    {
     "name": "stdout",
     "output_type": "stream",
     "text": [
      "You must enter the whole number\n",
      "You must enter the whole number\n",
      "You must enter the whole number\n"
     ]
    }
   ],
   "source": [
    "Try = True\n",
    "while Try:\n",
    "    try:\n",
    "        value = int(input(\"Enter a whole number:\"))\n",
    "    except ValueError:\n",
    "        print(\"You must enter the whole number\")\n",
    "\n",
    "        try:\n",
    "            again = input(\"Do you want to try again (y/n)\")\n",
    "        except:\n",
    "            print(\"Ok, See you next time!\")\n",
    "            Try = False\n",
    "        else:\n",
    "            if str.upper(again) == 'N':\n",
    "                Try = False\n",
    "    except KeyboardInterrupt:\n",
    "        print(\"You have pressed Ctrl + C! , see you next time!\")\n",
    "        Try = False\n",
    "    else:\n",
    "        print(abs(value))\n",
    "        Try = True"
   ]
  },
  {
   "cell_type": "markdown",
   "metadata": {},
   "source": [
    "## Raise"
   ]
  },
  {
   "cell_type": "code",
   "execution_count": 13,
   "metadata": {},
   "outputs": [
    {
     "name": "stdout",
     "output_type": "stream",
     "text": [
      "Age can not be less than Zero\n",
      "Executed in any condition\n"
     ]
    }
   ],
   "source": [
    "try:\n",
    "    age = int(input(\"Enter your age:\"))\n",
    "    if age < 0:\n",
    "        raise ValueError\n",
    "\n",
    "    print(f\"Age when doubled: {age*2}\")\n",
    "except ValueError:\n",
    "    print(\"Age can not be less than Zero\")\n",
    "finally:\n",
    "    print(\"Executed in any condition\")"
   ]
  },
  {
   "cell_type": "markdown",
   "metadata": {},
   "source": [
    "- Write a user defined exception class and use it in the arithmetic division operation.\n",
    "- Define a class OurException with Exception as base class.\n",
    "- Inside this class define the constructor i.e. the __init__(self, message) (Here message is an argument that passed).\n",
    "- Set self.message = message.\n",
    "- Now define a class UsingUserException.\n",
    "- Start the try block.\n",
    "- Take input a and b from user.\n",
    "- Do a condition testing if b == 0, then raise the OurException with a message b should be greater than 0. (Here we call on the format(b) built - in function of Python which prints the message with value of b in the correct format).\n",
    "- Do the operation a / b and store in d.\n",
    "- Print d saying division operation successful with result.\n",
    "- Open the except block with OurException with err as its instance.\n",
    "- Print \"Raised an User defined Exception: \" , err.message which prints the message that was raised."
   ]
  },
  {
   "cell_type": "code",
   "execution_count": null,
   "metadata": {},
   "outputs": [],
   "source": [
    "try:\n",
    "    class OurException():\n",
    "        def __init__(self,message):\n",
    "            self.message = message\n",
    "        \n",
    "        class Division():\n",
    "            try:\n",
    "                a = int(input(\"Enter value of a:\"))\n",
    "                b = int(input(\"enter value of b:\"))\n",
    "\n",
    "                def div():\n",
    "\n",
    "                 \n",
    "except:"
   ]
  },
  {
   "cell_type": "markdown",
   "metadata": {},
   "source": [
    "## Scenario: Movie Rental System\n",
    "Develop a Movie class with attributes like title, genre,and rental_price. \n",
    "\n",
    "Write methods to check the availability of the movie,rent a movie, and \n",
    "\n",
    "calculate late fees based on the number of days late.\n",
    "\n",
    "Objective: Combining OOP with real-world functionality."
   ]
  },
  {
   "cell_type": "code",
   "execution_count": null,
   "metadata": {},
   "outputs": [],
   "source": [
    "class Movie():\n",
    "    def __init__(self,title,genre,rental_price):\n",
    "        self.title = title\n",
    "        self.genre = genre\n",
    "        self.rental_price = rental_price\n",
    "    \n",
    "    \n",
    "    def availability(self):\n",
    "        pass\n",
    "\n",
    "    def rent_movie(self,):\n",
    "        pass\n",
    "    \n",
    "    def return_movie(self):\n",
    "        pass\n",
    "    "
   ]
  },
  {
   "cell_type": "code",
   "execution_count": 21,
   "metadata": {},
   "outputs": [],
   "source": [
    "class Movie:\n",
    "    def __init__(self, title, genre, rental_price, available=True):\n",
    "        self.title = title\n",
    "        self.genre = genre\n",
    "        self.rental_price = rental_price\n",
    "        self.available = available\n",
    "\n",
    "    # Method to check if the movie is available for rent\n",
    "    def check_availability(self):\n",
    "        return self.available\n",
    "    \n",
    "    def show_movie(self):\n",
    "        print(self.title)\n",
    "\n",
    "    # Method to rent the movie\n",
    "    def rent_movie(self):\n",
    "        if self.available:\n",
    "            self.available = False\n",
    "            print(f\"You have successfully rented '{self.title}'. Enjoy!\")\n",
    "        else:\n",
    "            print(f\"Sorry, '{self.title}' is currently unavailable.\")\n",
    "\n",
    "    # Method to return the movie and make it available again\n",
    "    def return_movie(self, days_late=0):\n",
    "        self.available = True\n",
    "        if days_late > 0:\n",
    "            late_fee = self.calculate_late_fee(days_late)\n",
    "            print(f\"Movie returned late by {days_late} days. Late fee is ${late_fee:.2f}.\")\n",
    "        else:\n",
    "            print(f\"Thank you for returning '{self.title}' on time!\")\n",
    "    \n",
    "    # Method to calculate the late fee based on the number of days late\n",
    "    def calculate_late_fee(self, days_late):\n",
    "        late_fee_per_day = 2.5  # For example, $2.5 per day late\n",
    "        return days_late * late_fee_per_day\n",
    "\n"
   ]
  },
  {
   "cell_type": "code",
   "execution_count": 27,
   "metadata": {},
   "outputs": [],
   "source": [
    "# Example Usage:\n",
    "movie1 = Movie(\"Inception\", \"Sci-Fi\", 3.99)\n"
   ]
  },
  {
   "cell_type": "code",
   "execution_count": 28,
   "metadata": {},
   "outputs": [],
   "source": [
    "movie2 = Movie(\"Avenger\", \"Sci-Fi\", 3.99)"
   ]
  },
  {
   "cell_type": "code",
   "execution_count": 31,
   "metadata": {},
   "outputs": [
    {
     "name": "stdout",
     "output_type": "stream",
     "text": [
      "Avenger\n"
     ]
    }
   ],
   "source": [
    "movie2.show_movie()"
   ]
  },
  {
   "cell_type": "code",
   "execution_count": 15,
   "metadata": {},
   "outputs": [
    {
     "name": "stdout",
     "output_type": "stream",
     "text": [
      "You have successfully rented 'Inception'. Enjoy!\n"
     ]
    }
   ],
   "source": [
    "# Check availability\n",
    "if movie1.check_availability():\n",
    "    movie1.rent_movie()\n"
   ]
  },
  {
   "cell_type": "code",
   "execution_count": 16,
   "metadata": {},
   "outputs": [
    {
     "name": "stdout",
     "output_type": "stream",
     "text": [
      "Movie returned late by 3 days. Late fee is $7.50.\n"
     ]
    }
   ],
   "source": [
    "# Return the movie late\n",
    "movie1.return_movie(days_late=3)"
   ]
  },
  {
   "cell_type": "code",
   "execution_count": 18,
   "metadata": {},
   "outputs": [
    {
     "name": "stdout",
     "output_type": "stream",
     "text": [
      "Neel\n",
      "CSE\n",
      "100000\n"
     ]
    }
   ],
   "source": [
    "# self is a variable not keyward\n",
    "\n",
    "class Manager:\n",
    "    def __init__(self,name,department,salary):\n",
    "        self.name = name\n",
    "        self.department = department\n",
    "        self.salary = salary\n",
    "\n",
    "\n",
    "name = input(\"Enter Your Name:\")\n",
    "department = input(\"Enter your Department:\")\n",
    "salary = int(input(\"Enter your salary\"))\n",
    "\n",
    "# Create object of the class\n",
    "manager_1 = Manager(name,department,salary)\n",
    "\n",
    "# printing the output\n",
    "print(manager_1.name)\n",
    "print(manager_1.department)\n",
    "print(manager_1.salary)"
   ]
  },
  {
   "cell_type": "code",
   "execution_count": 45,
   "metadata": {},
   "outputs": [],
   "source": [
    "class Movie:\n",
    "    def __init__(self, title, genre, rental_price, available=True):\n",
    "        self.title = title\n",
    "        self.genre = genre\n",
    "        self.rental_price = rental_price\n",
    "        self.available = available\n",
    "\n",
    "    # Method to check if the movie is available for rent\n",
    "    def check_availability(self):\n",
    "        return self.available\n",
    "\n",
    "    # Method to rent the movie\n",
    "    def rent_movie(self):\n",
    "        if self.available:\n",
    "            self.available = False\n",
    "            print(f\"You have successfully rented '{self.title}'. Enjoy!\")\n",
    "        else:\n",
    "            print(f\"Sorry, '{self.title}' is currently unavailable.\")\n",
    "\n",
    "    # Method to return the movie and make it available again\n",
    "    def return_movie(self, days_late=0):\n",
    "        self.available = True\n",
    "        if days_late > 0:\n",
    "            late_fee = self.calculate_late_fee(days_late)\n",
    "            print(f\"Movie returned late by {days_late} days. Late fee is ${late_fee:.2f}.\")\n",
    "        else:\n",
    "            print(f\"Thank you for returning '{self.title}' on time!\")\n",
    "    \n",
    "    # Method to calculate the late fee based on the number of days late\n",
    "    def calculate_late_fee(self, days_late):\n",
    "        late_fee_per_day = self.rental_price*0.15  # For example, $2.5 per day late\n",
    "        return days_late * late_fee_per_day\n",
    "\n",
    "\n",
    "# Function to find a movie by title from the list of movies\n",
    "def find_movie_by_title(movies, title):\n",
    "    for movie in movies:\n",
    "        if movie.title.lower() == title.lower():\n",
    "            return movie\n",
    "    return None"
   ]
  },
  {
   "cell_type": "code",
   "execution_count": 46,
   "metadata": {},
   "outputs": [],
   "source": [
    "\n",
    "# Create a list of movies\n",
    "movies = [\n",
    "    Movie(\"Inception\", \"Sci-Fi\", 3.99),\n",
    "    Movie(\"The Dark Knight\", \"Action\", 2.99),\n",
    "    Movie(\"Interstellar\", \"Sci-Fi\", 4.50),\n",
    "    Movie(\"The Godfather\", \"Crime\", 5.00)\n",
    "]"
   ]
  },
  {
   "cell_type": "code",
   "execution_count": 47,
   "metadata": {},
   "outputs": [
    {
     "name": "stdout",
     "output_type": "stream",
     "text": [
      "'The Godfather' is available for rent.\n",
      "You have successfully rented 'The Godfather'. Enjoy!\n"
     ]
    }
   ],
   "source": [
    "# Check availability and decide whether to rent a movie\n",
    "movie_title_to_check = input(\"Enter the movie title you want to check availability for: \")\n",
    "movie_to_check = find_movie_by_title(movies, movie_title_to_check)\n",
    "if movie_to_check:\n",
    "    if movie_to_check.check_availability():\n",
    "        print(f\"'{movie_to_check.title}' is available for rent.\")\n",
    "        # Ask user if they want to rent the movie\n",
    "        rent_decision = input(f\"Do you want to rent '{movie_to_check.title}'? (yes/no): \").strip().lower()\n",
    "        if rent_decision == 'yes':\n",
    "            movie_to_check.rent_movie()\n",
    "        else:\n",
    "            print(f\"You chose not to rent '{movie_to_check.title}'.\")\n",
    "    else:\n",
    "        print(f\"'{movie_to_check.title}' is currently unavailable.\")\n",
    "else:\n",
    "    print(f\"'{movie_title_to_check}' not found in the movie list.\")"
   ]
  },
  {
   "cell_type": "code",
   "execution_count": 48,
   "metadata": {},
   "outputs": [
    {
     "name": "stdout",
     "output_type": "stream",
     "text": [
      "Movie returned late by 6 days. Late fee is $4.50.\n"
     ]
    }
   ],
   "source": [
    "\n",
    "# Example of returning a movie with late days\n",
    "movie_title_to_return = input(\"\\nEnter the movie title you want to return: \")\n",
    "movie_to_return = find_movie_by_title(movies, movie_title_to_return)\n",
    "\n",
    "if movie_to_return:\n",
    "    if not movie_to_return.check_availability():\n",
    "        days_late = int(input(\"How many days late are you in returning the movie? \"))\n",
    "        movie_to_return.return_movie(days_late=days_late)\n",
    "    else:\n",
    "        print(f\"'{movie_to_return.title}' was not rented.\")\n",
    "else:\n",
    "    print(f\"'{movie_title_to_return}' not found in the movie list.\")"
   ]
  }
 ],
 "metadata": {
  "kernelspec": {
   "display_name": "base",
   "language": "python",
   "name": "python3"
  },
  "language_info": {
   "codemirror_mode": {
    "name": "ipython",
    "version": 3
   },
   "file_extension": ".py",
   "mimetype": "text/x-python",
   "name": "python",
   "nbconvert_exporter": "python",
   "pygments_lexer": "ipython3",
   "version": "3.12.4"
  }
 },
 "nbformat": 4,
 "nbformat_minor": 2
}
