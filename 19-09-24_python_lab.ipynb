{
 "cells": [
  {
   "cell_type": "markdown",
   "metadata": {},
   "source": [
    "1. Create Shoping Cart application using the concepts of objects Oriented programming"
   ]
  },
  {
   "cell_type": "markdown",
   "metadata": {},
   "source": [
    "## Week 5: Scenario-Based Practical Question for Python for Machine Learning Laboratory\n",
    "\n",
    "### Topic: Object-Oriented Programming (OOP), Class Design\n",
    "#### Practical Problem:\n",
    "**Problem Statement:** You are tasked with simulating an online shopping experience by creating\n",
    "a shopping cart in Python. The cart should allow users to add and remove items and calculate\n",
    "the total price of the items in the cart. This program can be used as part of a larger ecommerce system where users can add multiple products, check their cart, and complete their\n",
    "purchase.\n",
    "\n",
    "\n",
    "**Scenario:** Imagine you are developing a feature for an e-commerce platform where users need\n",
    "a shopping cart system. Users should be able to add items to their cart, remove items, and\n",
    "calculate the total price of the items in their cart. The system should also handle invalid actions\n",
    "gracefully, such as attempting to remove an item that is not in the cart.\n",
    "Your task is to write a Python program to implement this shopping cart functionality.\n",
    "\n",
    "\n",
    "**Instructions:**\n",
    "Create a class named ShoppingCart.\n",
    "- The class should have the following methods:\n",
    "- add_item(item, price) – adds an item to the cart along with its price.\n",
    "- remove_item(item) – removes an item from the cart.\n",
    "- calculate_total() – calculates the total price of all items in the cart and returns it.\n",
    "- The cart should be able to hold multiple items with their prices.\n",
    "**Handle the following scenarios:**\n",
    "- If the user tries to remove an item not present in the cart, display an appropriate message.\n",
    "- When calculating the total price, make sure the cart is not empty. If it is, return a message\n",
    "saying the cart is empty.\n",
    "- Create a scenario where the user adds, removes items, and calculates the total price.\n",
    "- **Sample Input/Output:**\n",
    "- Test Case 1:\n",
    "- Current items in cart:\n",
    "- Orange - 100\n",
    "- Lemon - 10\n",
    "- Apple - 50\n",
    "- Watermelon - 30\n",
    "- Total Value of your cart is: 190\n",
    "\n",
    "\n",
    "- **Test Case 2:**\n",
    "- Cart after removing items:\n",
    "- Lemon - 10\n",
    "- Apple - 50\n",
    "- Watermelon - 30\n",
    "- Updated value of your cart is: 90"
   ]
  },
  {
   "cell_type": "code",
   "execution_count": 1,
   "metadata": {},
   "outputs": [],
   "source": [
    "class ShopingCart():\n",
    "    def __init__(self):\n",
    "        self.item = []\n",
    "\n",
    "    def add_item(self,item_name,quantity,price):\n",
    "        self.item.append({'item_name':item_name, 'quantity':quantity, 'price':price})\n",
    "    \n",
    "    def remove_item(self,item_name):\n",
    "        for i in self.item:\n",
    "            if i['item_name'] == item_name:\n",
    "                self.item.remove(i)\n",
    "                break\n",
    "        else:\n",
    "            print(f\"{item_name} is not present in this class\")\n",
    "    \n",
    "    def show_item(self):\n",
    "        for i in self.item:\n",
    "            total = 0\n",
    "        for i in self.item:\n",
    "            total = total + i['quantity'] * i['price']\n",
    "            print(f\"{i['item_name']} - {i['price']}\")\n",
    "        print(f\"Total value of your Cart is: {total}\")\n"
   ]
  },
  {
   "cell_type": "code",
   "execution_count": 2,
   "metadata": {},
   "outputs": [],
   "source": [
    "kart = ShopingCart()"
   ]
  },
  {
   "cell_type": "code",
   "execution_count": 3,
   "metadata": {},
   "outputs": [],
   "source": [
    "kart.add_item(item_name='Orange',quantity=1,price=100)"
   ]
  },
  {
   "cell_type": "code",
   "execution_count": 4,
   "metadata": {},
   "outputs": [],
   "source": [
    "kart.add_item(item_name='Lemon',quantity=1,price=10)"
   ]
  },
  {
   "cell_type": "code",
   "execution_count": 5,
   "metadata": {},
   "outputs": [],
   "source": [
    "kart.add_item(item_name='Apple',quantity=1,price=50)"
   ]
  },
  {
   "cell_type": "code",
   "execution_count": 6,
   "metadata": {},
   "outputs": [],
   "source": [
    "kart.add_item(item_name='Watermelon',quantity=1,price=30)"
   ]
  },
  {
   "cell_type": "code",
   "execution_count": 7,
   "metadata": {},
   "outputs": [
    {
     "name": "stdout",
     "output_type": "stream",
     "text": [
      "Orange - 100\n",
      "Lemon - 10\n",
      "Apple - 50\n",
      "Watermelon - 30\n",
      "Total value of your Cart is: 190\n"
     ]
    }
   ],
   "source": [
    "kart.show_item()"
   ]
  },
  {
   "cell_type": "code",
   "execution_count": 8,
   "metadata": {},
   "outputs": [],
   "source": [
    "kart.remove_item(item_name='Orange')"
   ]
  },
  {
   "cell_type": "code",
   "execution_count": 9,
   "metadata": {},
   "outputs": [
    {
     "name": "stdout",
     "output_type": "stream",
     "text": [
      "Lemon - 10\n",
      "Apple - 50\n",
      "Watermelon - 30\n",
      "Total value of your Cart is: 90\n"
     ]
    }
   ],
   "source": [
    "kart.show_item()"
   ]
  },
  {
   "cell_type": "code",
   "execution_count": 10,
   "metadata": {},
   "outputs": [
    {
     "name": "stdout",
     "output_type": "stream",
     "text": [
      "Mango is not present in this class\n"
     ]
    }
   ],
   "source": [
    "kart.remove_item(item_name='Mango')"
   ]
  }
 ],
 "metadata": {
  "kernelspec": {
   "display_name": "Python 3",
   "language": "python",
   "name": "python3"
  },
  "language_info": {
   "codemirror_mode": {
    "name": "ipython",
    "version": 3
   },
   "file_extension": ".py",
   "mimetype": "text/x-python",
   "name": "python",
   "nbconvert_exporter": "python",
   "pygments_lexer": "ipython3",
   "version": "3.12.4"
  }
 },
 "nbformat": 4,
 "nbformat_minor": 2
}
